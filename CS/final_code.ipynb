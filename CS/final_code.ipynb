{
 "cells": [
  {
   "cell_type": "code",
   "execution_count": 171,
   "metadata": {},
   "outputs": [],
   "source": [
    "#Import necessary modules\n",
    "import pandas as pd\n",
    "import numpy as np\n",
    "import matplotlib.pyplot as plt\n",
    "import seaborn as sns\n",
    "from scipy.spatial.distance import euclidean\n",
    "from sklearn.metrics import mean_squared_error\n",
    "from scipy.spatial.distance import correlation\n",
    "from scipy.spatial.distance import pdist, squareform\n",
    "from sklearn.metrics import pairwise_distances\n",
    "from sklearn.model_selection import train_test_split"
   ]
  },
  {
   "cell_type": "markdown",
   "metadata": {},
   "source": [
    "## Understanding each datas"
   ]
  },
  {
   "cell_type": "code",
   "execution_count": 145,
   "metadata": {},
   "outputs": [
    {
     "data": {
      "text/html": [
       "<div>\n",
       "<style scoped>\n",
       "    .dataframe tbody tr th:only-of-type {\n",
       "        vertical-align: middle;\n",
       "    }\n",
       "\n",
       "    .dataframe tbody tr th {\n",
       "        vertical-align: top;\n",
       "    }\n",
       "\n",
       "    .dataframe thead th {\n",
       "        text-align: right;\n",
       "    }\n",
       "</style>\n",
       "<table border=\"1\" class=\"dataframe\">\n",
       "  <thead>\n",
       "    <tr style=\"text-align: right;\">\n",
       "      <th></th>\n",
       "      <th>movieId</th>\n",
       "      <th>imdbId</th>\n",
       "      <th>tmdbId</th>\n",
       "    </tr>\n",
       "  </thead>\n",
       "  <tbody>\n",
       "    <tr>\n",
       "      <th>0</th>\n",
       "      <td>1</td>\n",
       "      <td>114709</td>\n",
       "      <td>862.0</td>\n",
       "    </tr>\n",
       "    <tr>\n",
       "      <th>1</th>\n",
       "      <td>2</td>\n",
       "      <td>113497</td>\n",
       "      <td>8844.0</td>\n",
       "    </tr>\n",
       "    <tr>\n",
       "      <th>2</th>\n",
       "      <td>3</td>\n",
       "      <td>113228</td>\n",
       "      <td>15602.0</td>\n",
       "    </tr>\n",
       "    <tr>\n",
       "      <th>3</th>\n",
       "      <td>4</td>\n",
       "      <td>114885</td>\n",
       "      <td>31357.0</td>\n",
       "    </tr>\n",
       "    <tr>\n",
       "      <th>4</th>\n",
       "      <td>5</td>\n",
       "      <td>113041</td>\n",
       "      <td>11862.0</td>\n",
       "    </tr>\n",
       "  </tbody>\n",
       "</table>\n",
       "</div>"
      ],
      "text/plain": [
       "   movieId  imdbId   tmdbId\n",
       "0        1  114709    862.0\n",
       "1        2  113497   8844.0\n",
       "2        3  113228  15602.0\n",
       "3        4  114885  31357.0\n",
       "4        5  113041  11862.0"
      ]
     },
     "execution_count": 145,
     "metadata": {},
     "output_type": "execute_result"
    }
   ],
   "source": [
    "#Links data\n",
    "links_df = pd.read_csv('links.csv')\n",
    "links_df.head()"
   ]
  },
  {
   "cell_type": "code",
   "execution_count": 146,
   "metadata": {},
   "outputs": [
    {
     "data": {
      "text/html": [
       "<div>\n",
       "<style scoped>\n",
       "    .dataframe tbody tr th:only-of-type {\n",
       "        vertical-align: middle;\n",
       "    }\n",
       "\n",
       "    .dataframe tbody tr th {\n",
       "        vertical-align: top;\n",
       "    }\n",
       "\n",
       "    .dataframe thead th {\n",
       "        text-align: right;\n",
       "    }\n",
       "</style>\n",
       "<table border=\"1\" class=\"dataframe\">\n",
       "  <thead>\n",
       "    <tr style=\"text-align: right;\">\n",
       "      <th></th>\n",
       "      <th>movieId</th>\n",
       "      <th>title</th>\n",
       "      <th>genres</th>\n",
       "    </tr>\n",
       "  </thead>\n",
       "  <tbody>\n",
       "    <tr>\n",
       "      <th>0</th>\n",
       "      <td>1</td>\n",
       "      <td>Toy Story (1995)</td>\n",
       "      <td>Adventure|Animation|Children|Comedy|Fantasy</td>\n",
       "    </tr>\n",
       "    <tr>\n",
       "      <th>1</th>\n",
       "      <td>2</td>\n",
       "      <td>Jumanji (1995)</td>\n",
       "      <td>Adventure|Children|Fantasy</td>\n",
       "    </tr>\n",
       "    <tr>\n",
       "      <th>2</th>\n",
       "      <td>3</td>\n",
       "      <td>Grumpier Old Men (1995)</td>\n",
       "      <td>Comedy|Romance</td>\n",
       "    </tr>\n",
       "    <tr>\n",
       "      <th>3</th>\n",
       "      <td>4</td>\n",
       "      <td>Waiting to Exhale (1995)</td>\n",
       "      <td>Comedy|Drama|Romance</td>\n",
       "    </tr>\n",
       "    <tr>\n",
       "      <th>4</th>\n",
       "      <td>5</td>\n",
       "      <td>Father of the Bride Part II (1995)</td>\n",
       "      <td>Comedy</td>\n",
       "    </tr>\n",
       "  </tbody>\n",
       "</table>\n",
       "</div>"
      ],
      "text/plain": [
       "   movieId                               title  \\\n",
       "0        1                    Toy Story (1995)   \n",
       "1        2                      Jumanji (1995)   \n",
       "2        3             Grumpier Old Men (1995)   \n",
       "3        4            Waiting to Exhale (1995)   \n",
       "4        5  Father of the Bride Part II (1995)   \n",
       "\n",
       "                                        genres  \n",
       "0  Adventure|Animation|Children|Comedy|Fantasy  \n",
       "1                   Adventure|Children|Fantasy  \n",
       "2                               Comedy|Romance  \n",
       "3                         Comedy|Drama|Romance  \n",
       "4                                       Comedy  "
      ]
     },
     "execution_count": 146,
     "metadata": {},
     "output_type": "execute_result"
    }
   ],
   "source": [
    "#Movies data\n",
    "movies_df = pd.read_csv('movies.csv')\n",
    "movies_df.head()"
   ]
  },
  {
   "cell_type": "code",
   "execution_count": 147,
   "metadata": {},
   "outputs": [
    {
     "data": {
      "text/html": [
       "<div>\n",
       "<style scoped>\n",
       "    .dataframe tbody tr th:only-of-type {\n",
       "        vertical-align: middle;\n",
       "    }\n",
       "\n",
       "    .dataframe tbody tr th {\n",
       "        vertical-align: top;\n",
       "    }\n",
       "\n",
       "    .dataframe thead th {\n",
       "        text-align: right;\n",
       "    }\n",
       "</style>\n",
       "<table border=\"1\" class=\"dataframe\">\n",
       "  <thead>\n",
       "    <tr style=\"text-align: right;\">\n",
       "      <th></th>\n",
       "      <th>rating_user_id</th>\n",
       "      <th>movieId</th>\n",
       "      <th>rating</th>\n",
       "      <th>timestamp</th>\n",
       "    </tr>\n",
       "  </thead>\n",
       "  <tbody>\n",
       "    <tr>\n",
       "      <th>0</th>\n",
       "      <td>1</td>\n",
       "      <td>1</td>\n",
       "      <td>4.0</td>\n",
       "      <td>964982703</td>\n",
       "    </tr>\n",
       "    <tr>\n",
       "      <th>1</th>\n",
       "      <td>1</td>\n",
       "      <td>3</td>\n",
       "      <td>4.0</td>\n",
       "      <td>964981247</td>\n",
       "    </tr>\n",
       "    <tr>\n",
       "      <th>2</th>\n",
       "      <td>1</td>\n",
       "      <td>6</td>\n",
       "      <td>4.0</td>\n",
       "      <td>964982224</td>\n",
       "    </tr>\n",
       "    <tr>\n",
       "      <th>3</th>\n",
       "      <td>1</td>\n",
       "      <td>47</td>\n",
       "      <td>5.0</td>\n",
       "      <td>964983815</td>\n",
       "    </tr>\n",
       "    <tr>\n",
       "      <th>4</th>\n",
       "      <td>1</td>\n",
       "      <td>50</td>\n",
       "      <td>5.0</td>\n",
       "      <td>964982931</td>\n",
       "    </tr>\n",
       "  </tbody>\n",
       "</table>\n",
       "</div>"
      ],
      "text/plain": [
       "   rating_user_id  movieId  rating  timestamp\n",
       "0               1        1     4.0  964982703\n",
       "1               1        3     4.0  964981247\n",
       "2               1        6     4.0  964982224\n",
       "3               1       47     5.0  964983815\n",
       "4               1       50     5.0  964982931"
      ]
     },
     "execution_count": 147,
     "metadata": {},
     "output_type": "execute_result"
    }
   ],
   "source": [
    "#Ratings data\n",
    "ratings_df = pd.read_csv('ratings.csv')\n",
    "ratings_df = ratings_df.rename(columns={'userId': 'rating_user_id'})\n",
    "ratings_df.head()"
   ]
  },
  {
   "cell_type": "code",
   "execution_count": 148,
   "metadata": {},
   "outputs": [
    {
     "data": {
      "text/html": [
       "<div>\n",
       "<style scoped>\n",
       "    .dataframe tbody tr th:only-of-type {\n",
       "        vertical-align: middle;\n",
       "    }\n",
       "\n",
       "    .dataframe tbody tr th {\n",
       "        vertical-align: top;\n",
       "    }\n",
       "\n",
       "    .dataframe thead th {\n",
       "        text-align: right;\n",
       "    }\n",
       "</style>\n",
       "<table border=\"1\" class=\"dataframe\">\n",
       "  <thead>\n",
       "    <tr style=\"text-align: right;\">\n",
       "      <th></th>\n",
       "      <th>tag_user_id</th>\n",
       "      <th>movieId</th>\n",
       "      <th>tag</th>\n",
       "      <th>timestamp</th>\n",
       "    </tr>\n",
       "  </thead>\n",
       "  <tbody>\n",
       "    <tr>\n",
       "      <th>0</th>\n",
       "      <td>2</td>\n",
       "      <td>60756</td>\n",
       "      <td>funny</td>\n",
       "      <td>1445714994</td>\n",
       "    </tr>\n",
       "    <tr>\n",
       "      <th>1</th>\n",
       "      <td>2</td>\n",
       "      <td>60756</td>\n",
       "      <td>Highly quotable</td>\n",
       "      <td>1445714996</td>\n",
       "    </tr>\n",
       "    <tr>\n",
       "      <th>2</th>\n",
       "      <td>2</td>\n",
       "      <td>60756</td>\n",
       "      <td>will ferrell</td>\n",
       "      <td>1445714992</td>\n",
       "    </tr>\n",
       "    <tr>\n",
       "      <th>3</th>\n",
       "      <td>2</td>\n",
       "      <td>89774</td>\n",
       "      <td>Boxing story</td>\n",
       "      <td>1445715207</td>\n",
       "    </tr>\n",
       "    <tr>\n",
       "      <th>4</th>\n",
       "      <td>2</td>\n",
       "      <td>89774</td>\n",
       "      <td>MMA</td>\n",
       "      <td>1445715200</td>\n",
       "    </tr>\n",
       "  </tbody>\n",
       "</table>\n",
       "</div>"
      ],
      "text/plain": [
       "   tag_user_id  movieId              tag   timestamp\n",
       "0            2    60756            funny  1445714994\n",
       "1            2    60756  Highly quotable  1445714996\n",
       "2            2    60756     will ferrell  1445714992\n",
       "3            2    89774     Boxing story  1445715207\n",
       "4            2    89774              MMA  1445715200"
      ]
     },
     "execution_count": 148,
     "metadata": {},
     "output_type": "execute_result"
    }
   ],
   "source": [
    "#Tags data\n",
    "tags_df = pd.read_csv('tags.csv')\n",
    "tags_df = tags_df.rename(columns={'userId': 'tag_user_id'})\n",
    "tags_df.head()"
   ]
  },
  {
   "cell_type": "markdown",
   "metadata": {},
   "source": [
    "## Merging the dataframes"
   ]
  },
  {
   "cell_type": "code",
   "execution_count": 149,
   "metadata": {},
   "outputs": [
    {
     "data": {
      "text/html": [
       "<div>\n",
       "<style scoped>\n",
       "    .dataframe tbody tr th:only-of-type {\n",
       "        vertical-align: middle;\n",
       "    }\n",
       "\n",
       "    .dataframe tbody tr th {\n",
       "        vertical-align: top;\n",
       "    }\n",
       "\n",
       "    .dataframe thead th {\n",
       "        text-align: right;\n",
       "    }\n",
       "</style>\n",
       "<table border=\"1\" class=\"dataframe\">\n",
       "  <thead>\n",
       "    <tr style=\"text-align: right;\">\n",
       "      <th></th>\n",
       "      <th>movieId</th>\n",
       "      <th>imdbId</th>\n",
       "      <th>tmdbId</th>\n",
       "      <th>title</th>\n",
       "      <th>genres</th>\n",
       "      <th>rating_user_id</th>\n",
       "      <th>rating</th>\n",
       "      <th>tag_user_id</th>\n",
       "      <th>tag</th>\n",
       "    </tr>\n",
       "  </thead>\n",
       "  <tbody>\n",
       "    <tr>\n",
       "      <th>0</th>\n",
       "      <td>1</td>\n",
       "      <td>114709</td>\n",
       "      <td>862.0</td>\n",
       "      <td>Toy Story (1995)</td>\n",
       "      <td>Adventure|Animation|Children|Comedy|Fantasy</td>\n",
       "      <td>1.0</td>\n",
       "      <td>4.0</td>\n",
       "      <td>336.0</td>\n",
       "      <td>pixar</td>\n",
       "    </tr>\n",
       "    <tr>\n",
       "      <th>1</th>\n",
       "      <td>1</td>\n",
       "      <td>114709</td>\n",
       "      <td>862.0</td>\n",
       "      <td>Toy Story (1995)</td>\n",
       "      <td>Adventure|Animation|Children|Comedy|Fantasy</td>\n",
       "      <td>1.0</td>\n",
       "      <td>4.0</td>\n",
       "      <td>474.0</td>\n",
       "      <td>pixar</td>\n",
       "    </tr>\n",
       "    <tr>\n",
       "      <th>2</th>\n",
       "      <td>1</td>\n",
       "      <td>114709</td>\n",
       "      <td>862.0</td>\n",
       "      <td>Toy Story (1995)</td>\n",
       "      <td>Adventure|Animation|Children|Comedy|Fantasy</td>\n",
       "      <td>1.0</td>\n",
       "      <td>4.0</td>\n",
       "      <td>567.0</td>\n",
       "      <td>fun</td>\n",
       "    </tr>\n",
       "    <tr>\n",
       "      <th>3</th>\n",
       "      <td>1</td>\n",
       "      <td>114709</td>\n",
       "      <td>862.0</td>\n",
       "      <td>Toy Story (1995)</td>\n",
       "      <td>Adventure|Animation|Children|Comedy|Fantasy</td>\n",
       "      <td>5.0</td>\n",
       "      <td>4.0</td>\n",
       "      <td>336.0</td>\n",
       "      <td>pixar</td>\n",
       "    </tr>\n",
       "    <tr>\n",
       "      <th>4</th>\n",
       "      <td>1</td>\n",
       "      <td>114709</td>\n",
       "      <td>862.0</td>\n",
       "      <td>Toy Story (1995)</td>\n",
       "      <td>Adventure|Animation|Children|Comedy|Fantasy</td>\n",
       "      <td>5.0</td>\n",
       "      <td>4.0</td>\n",
       "      <td>474.0</td>\n",
       "      <td>pixar</td>\n",
       "    </tr>\n",
       "  </tbody>\n",
       "</table>\n",
       "</div>"
      ],
      "text/plain": [
       "   movieId  imdbId  tmdbId             title  \\\n",
       "0        1  114709   862.0  Toy Story (1995)   \n",
       "1        1  114709   862.0  Toy Story (1995)   \n",
       "2        1  114709   862.0  Toy Story (1995)   \n",
       "3        1  114709   862.0  Toy Story (1995)   \n",
       "4        1  114709   862.0  Toy Story (1995)   \n",
       "\n",
       "                                        genres  rating_user_id  rating  \\\n",
       "0  Adventure|Animation|Children|Comedy|Fantasy             1.0     4.0   \n",
       "1  Adventure|Animation|Children|Comedy|Fantasy             1.0     4.0   \n",
       "2  Adventure|Animation|Children|Comedy|Fantasy             1.0     4.0   \n",
       "3  Adventure|Animation|Children|Comedy|Fantasy             5.0     4.0   \n",
       "4  Adventure|Animation|Children|Comedy|Fantasy             5.0     4.0   \n",
       "\n",
       "   tag_user_id    tag  \n",
       "0        336.0  pixar  \n",
       "1        474.0  pixar  \n",
       "2        567.0    fun  \n",
       "3        336.0  pixar  \n",
       "4        474.0  pixar  "
      ]
     },
     "execution_count": 149,
     "metadata": {},
     "output_type": "execute_result"
    }
   ],
   "source": [
    "# Merging DataFrames\n",
    "merged_df = pd.merge(links_df, movies_df, on='movieId', how='inner')\n",
    "merged_df = pd.merge(merged_df, ratings_df.drop(columns=['timestamp']), on='movieId', how='left')\n",
    "final_df = pd.merge(merged_df, tags_df.drop(columns=['timestamp']), on='movieId', how='left')\n",
    "\n",
    "final_df.head()\n",
    "\n"
   ]
  },
  {
   "cell_type": "code",
   "execution_count": 150,
   "metadata": {},
   "outputs": [
    {
     "data": {
      "text/plain": [
       "(285783, 9)"
      ]
     },
     "execution_count": 150,
     "metadata": {},
     "output_type": "execute_result"
    }
   ],
   "source": [
    "final_df.shape"
   ]
  },
  {
   "cell_type": "markdown",
   "metadata": {},
   "source": [
    "## Checking for missing value"
   ]
  },
  {
   "cell_type": "code",
   "execution_count": 151,
   "metadata": {},
   "outputs": [
    {
     "data": {
      "text/plain": [
       "movieId               0\n",
       "imdbId                0\n",
       "tmdbId               13\n",
       "title                 0\n",
       "genres                0\n",
       "rating_user_id       21\n",
       "rating               21\n",
       "tag_user_id       52549\n",
       "tag               52549\n",
       "dtype: int64"
      ]
     },
     "execution_count": 151,
     "metadata": {},
     "output_type": "execute_result"
    }
   ],
   "source": [
    "final_df.isna().sum()"
   ]
  },
  {
   "cell_type": "markdown",
   "metadata": {},
   "source": [
    "Since Tag column has very high missing value and for rating user id and rating we are planning to remove the rows since the value is less and for tmdbid we are planning to replace null value with 0"
   ]
  },
  {
   "cell_type": "markdown",
   "metadata": {},
   "source": [
    "## Handling the missing value"
   ]
  },
  {
   "cell_type": "code",
   "execution_count": 152,
   "metadata": {},
   "outputs": [],
   "source": [
    "# 1. Drop 'tag' column due to high missing value\n",
    "final_df = final_df.drop(columns=['tag'], errors='ignore')\n",
    "\n",
    "# 2. Drop rows with missing values in 'rating_user_id' or 'rating'\n",
    "final_df = final_df.dropna(subset=['rating_user_id', 'rating'])\n",
    "\n",
    "# 3. Replace missing values in 'tmdbId' with 0\n",
    "final_df['tmdbId'] = final_df['tmdbId'].fillna(0)\n",
    "\n",
    "# Remove duplicates (optional, if needed)\n",
    "final_df = final_df.drop_duplicates()"
   ]
  },
  {
   "cell_type": "code",
   "execution_count": 153,
   "metadata": {},
   "outputs": [
    {
     "data": {
      "text/html": [
       "<div>\n",
       "<style scoped>\n",
       "    .dataframe tbody tr th:only-of-type {\n",
       "        vertical-align: middle;\n",
       "    }\n",
       "\n",
       "    .dataframe tbody tr th {\n",
       "        vertical-align: top;\n",
       "    }\n",
       "\n",
       "    .dataframe thead th {\n",
       "        text-align: right;\n",
       "    }\n",
       "</style>\n",
       "<table border=\"1\" class=\"dataframe\">\n",
       "  <thead>\n",
       "    <tr style=\"text-align: right;\">\n",
       "      <th></th>\n",
       "      <th>movieId</th>\n",
       "      <th>imdbId</th>\n",
       "      <th>tmdbId</th>\n",
       "      <th>title</th>\n",
       "      <th>genres</th>\n",
       "      <th>rating_user_id</th>\n",
       "      <th>rating</th>\n",
       "      <th>tag_user_id</th>\n",
       "    </tr>\n",
       "  </thead>\n",
       "  <tbody>\n",
       "    <tr>\n",
       "      <th>0</th>\n",
       "      <td>1</td>\n",
       "      <td>114709</td>\n",
       "      <td>862.0</td>\n",
       "      <td>Toy Story (1995)</td>\n",
       "      <td>Adventure|Animation|Children|Comedy|Fantasy</td>\n",
       "      <td>1.0</td>\n",
       "      <td>4.0</td>\n",
       "      <td>336.0</td>\n",
       "    </tr>\n",
       "    <tr>\n",
       "      <th>1</th>\n",
       "      <td>1</td>\n",
       "      <td>114709</td>\n",
       "      <td>862.0</td>\n",
       "      <td>Toy Story (1995)</td>\n",
       "      <td>Adventure|Animation|Children|Comedy|Fantasy</td>\n",
       "      <td>1.0</td>\n",
       "      <td>4.0</td>\n",
       "      <td>474.0</td>\n",
       "    </tr>\n",
       "    <tr>\n",
       "      <th>2</th>\n",
       "      <td>1</td>\n",
       "      <td>114709</td>\n",
       "      <td>862.0</td>\n",
       "      <td>Toy Story (1995)</td>\n",
       "      <td>Adventure|Animation|Children|Comedy|Fantasy</td>\n",
       "      <td>1.0</td>\n",
       "      <td>4.0</td>\n",
       "      <td>567.0</td>\n",
       "    </tr>\n",
       "    <tr>\n",
       "      <th>3</th>\n",
       "      <td>1</td>\n",
       "      <td>114709</td>\n",
       "      <td>862.0</td>\n",
       "      <td>Toy Story (1995)</td>\n",
       "      <td>Adventure|Animation|Children|Comedy|Fantasy</td>\n",
       "      <td>5.0</td>\n",
       "      <td>4.0</td>\n",
       "      <td>336.0</td>\n",
       "    </tr>\n",
       "    <tr>\n",
       "      <th>4</th>\n",
       "      <td>1</td>\n",
       "      <td>114709</td>\n",
       "      <td>862.0</td>\n",
       "      <td>Toy Story (1995)</td>\n",
       "      <td>Adventure|Animation|Children|Comedy|Fantasy</td>\n",
       "      <td>5.0</td>\n",
       "      <td>4.0</td>\n",
       "      <td>474.0</td>\n",
       "    </tr>\n",
       "  </tbody>\n",
       "</table>\n",
       "</div>"
      ],
      "text/plain": [
       "   movieId  imdbId  tmdbId             title  \\\n",
       "0        1  114709   862.0  Toy Story (1995)   \n",
       "1        1  114709   862.0  Toy Story (1995)   \n",
       "2        1  114709   862.0  Toy Story (1995)   \n",
       "3        1  114709   862.0  Toy Story (1995)   \n",
       "4        1  114709   862.0  Toy Story (1995)   \n",
       "\n",
       "                                        genres  rating_user_id  rating  \\\n",
       "0  Adventure|Animation|Children|Comedy|Fantasy             1.0     4.0   \n",
       "1  Adventure|Animation|Children|Comedy|Fantasy             1.0     4.0   \n",
       "2  Adventure|Animation|Children|Comedy|Fantasy             1.0     4.0   \n",
       "3  Adventure|Animation|Children|Comedy|Fantasy             5.0     4.0   \n",
       "4  Adventure|Animation|Children|Comedy|Fantasy             5.0     4.0   \n",
       "\n",
       "   tag_user_id  \n",
       "0        336.0  \n",
       "1        474.0  \n",
       "2        567.0  \n",
       "3        336.0  \n",
       "4        474.0  "
      ]
     },
     "execution_count": 153,
     "metadata": {},
     "output_type": "execute_result"
    }
   ],
   "source": [
    "final_df.head()"
   ]
  },
  {
   "cell_type": "code",
   "execution_count": 154,
   "metadata": {},
   "outputs": [
    {
     "data": {
      "text/plain": [
       "(122726, 8)"
      ]
     },
     "execution_count": 154,
     "metadata": {},
     "output_type": "execute_result"
    }
   ],
   "source": [
    "final_df.shape"
   ]
  },
  {
   "cell_type": "markdown",
   "metadata": {},
   "source": [
    "## Exploratory Data Analysis"
   ]
  },
  {
   "cell_type": "markdown",
   "metadata": {},
   "source": [
    "### Understanding Rating Distribution"
   ]
  },
  {
   "cell_type": "code",
   "execution_count": 155,
   "metadata": {},
   "outputs": [
    {
     "data": {
      "image/png": "[encoded data removed]",
      "text/plain": [
       "<Figure size 640x480 with 1 Axes>"
      ]
     },
     "metadata": {},
     "output_type": "display_data"
    },
    {
     "name": "stdout",
     "output_type": "stream",
     "text": [
      "count    122726.000000\n",
      "mean          3.595061\n",
      "std           1.040677\n",
      "min           0.500000\n",
      "25%           3.000000\n",
      "50%           4.000000\n",
      "75%           4.500000\n",
      "max           5.000000\n",
      "Name: rating, dtype: float64\n"
     ]
    }
   ],
   "source": [
    "import matplotlib.pyplot as plt\n",
    "\n",
    "# Plot rating distribution\n",
    "final_df['rating'].hist(bins=10)\n",
    "plt.title('Distribution of Ratings')\n",
    "plt.xlabel('Rating')\n",
    "plt.ylabel('Frequency')\n",
    "plt.show()\n",
    "\n",
    "# Summary statistics\n",
    "print(final_df['rating'].describe())"
   ]
  },
  {
   "cell_type": "markdown",
   "metadata": {},
   "source": [
    "### Analyzing User Activity"
   ]
  },
  {
   "cell_type": "code",
   "execution_count": 156,
   "metadata": {},
   "outputs": [
    {
     "data": {
      "image/png": "[encoded data removed]",
      "text/plain": [
       "<Figure size 640x480 with 1 Axes>"
      ]
     },
     "metadata": {},
     "output_type": "display_data"
    },
    {
     "name": "stdout",
     "output_type": "stream",
     "text": [
      "rating_user_id\n",
      "414.0    2875\n",
      "599.0    2644\n",
      "474.0    2278\n",
      "448.0    1985\n",
      "274.0    1500\n",
      "Name: rating, dtype: int64\n"
     ]
    }
   ],
   "source": [
    "user_activity = final_df.groupby('rating_user_id')['rating'].count()\n",
    "user_activity.hist(bins=20)\n",
    "plt.title('Distribution of Ratings per User')\n",
    "plt.xlabel('Number of Ratings')\n",
    "plt.ylabel('Frequency')\n",
    "plt.show()\n",
    "\n",
    "# Top 5 most active users\n",
    "print(user_activity.sort_values(ascending=False).head())"
   ]
  },
  {
   "cell_type": "markdown",
   "metadata": {},
   "source": [
    "The histogram shows the distribution of ratings per user, revealing the frequency of users based on how many ratings they provided. The top 5 most active users indicate that a small number of users are highly engaged, while many users have rated fewer movies, highlighting potential data sparsity in the recommendation system."
   ]
  },
  {
   "cell_type": "markdown",
   "metadata": {},
   "source": [
    "###  Analyze Movie Popularity"
   ]
  },
  {
   "cell_type": "code",
   "execution_count": 157,
   "metadata": {},
   "outputs": [
    {
     "data": {
      "image/png": "[encoded data removed]",
      "text/plain": [
       "<Figure size 640x480 with 1 Axes>"
      ]
     },
     "metadata": {},
     "output_type": "display_data"
    },
    {
     "name": "stdout",
     "output_type": "stream",
     "text": [
      "movieId\n",
      "260     2510\n",
      "296     1228\n",
      "356      987\n",
      "527      880\n",
      "2959     872\n",
      "Name: rating, dtype: int64\n"
     ]
    }
   ],
   "source": [
    "movie_popularity = final_df.groupby('movieId')['rating'].count()\n",
    "movie_popularity.hist(bins=20)\n",
    "plt.title('Distribution of Ratings per Movie')\n",
    "plt.xlabel('Number of Ratings')\n",
    "plt.ylabel('Frequency')\n",
    "plt.show()\n",
    "\n",
    "# Top 5 most-rated movies\n",
    "print(movie_popularity.sort_values(ascending=False).head())"
   ]
  },
  {
   "cell_type": "markdown",
   "metadata": {},
   "source": [
    "\n",
    "The histogram of ratings per movie shows how frequently movies are rated. The plot is skewed, indicates that most movies have few ratings, while a few movies are highly rated.\n",
    "\n",
    "Inference:\n",
    "\n",
    "There are likely a few popular movies with a large number of ratings, while most movies receive only a few ratings.\n",
    "The top 5 most-rated movies are likely the most popular in the dataset."
   ]
  },
  {
   "cell_type": "markdown",
   "metadata": {},
   "source": [
    "### Examine Genre Preferences"
   ]
  },
  {
   "cell_type": "code",
   "execution_count": 158,
   "metadata": {},
   "outputs": [],
   "source": [
    "\n",
    "# Step 1: Split genres into individual categories\n",
    "genres = final_df['genres'].str.split('|', expand=True).stack()\n",
    "\n",
    "# Step 2: Count occurrences of each genre\n",
    "genre_counts = genres.value_counts()"
   ]
  },
  {
   "cell_type": "code",
   "execution_count": 159,
   "metadata": {},
   "outputs": [
    {
     "data": {
      "image/png": "[encoded data removed]",
      "text/plain": [
       "<Figure size 1200x600 with 1 Axes>"
      ]
     },
     "metadata": {},
     "output_type": "display_data"
    }
   ],
   "source": [
    "#Plotting the distribution\n",
    "plt.figure(figsize=(12, 6))\n",
    "genre_counts.plot(kind='bar', color='skyblue', edgecolor='black')\n",
    "plt.title('Genre Preferences', fontsize=16)\n",
    "plt.xlabel('Genres', fontsize=14)\n",
    "plt.ylabel('Count', fontsize=14)\n",
    "plt.xticks(rotation=45, fontsize=12)\n",
    "plt.grid(axis='y', linestyle='--', alpha=0.7)\n",
    "plt.tight_layout()\n",
    "plt.show()"
   ]
  },
  {
   "cell_type": "markdown",
   "metadata": {},
   "source": [
    "The bar plot shows the distribution of movie genres in the dataset. It reveals the most popular genres based on frequency, helping identify which genres are preferred by users."
   ]
  },
  {
   "cell_type": "markdown",
   "metadata": {},
   "source": [
    "## KNN"
   ]
  },
  {
   "cell_type": "markdown",
   "metadata": {},
   "source": [
    "### Unweighted and Weighted"
   ]
  },
  {
   "cell_type": "code",
   "execution_count": 160,
   "metadata": {},
   "outputs": [],
   "source": [
    "# KNN prediction function\n",
    "def knn_predict_for_user_unweighted(movie_id, target_user_id, k, df):\n",
    "    # Filter for the specific movie\n",
    "    movie_data = df[df[\"movieId\"] == movie_id]\n",
    "    \n",
    "    # Extract unique users and their ratings\n",
    "    users = movie_data[[\"rating_user_id\", \"rating\"]].drop_duplicates().reset_index(drop=True)\n",
    "    \n",
    "    # Calculate distances from the target user to all other users\n",
    "    distances = []\n",
    "    for _, row in users.iterrows():\n",
    "        if row[\"rating_user_id\"] != target_user_id:  # Exclude the target user\n",
    "            dist = euclidean([target_user_id], [row[\"rating_user_id\"]])\n",
    "            distances.append((row[\"rating_user_id\"], row[\"rating\"], dist))\n",
    "    \n",
    "    # Sort by distance\n",
    "    distances = sorted(distances, key=lambda x: x[2])\n",
    "    \n",
    "    # Handle ties at the kth neighbor\n",
    "    neighbors = []\n",
    "    for i, neighbor in enumerate(distances):\n",
    "        if i < k or (i >= k and neighbor[2] == distances[k - 1][2]):\n",
    "            if not pd.isna(neighbor[1]):  # Only include valid ratings\n",
    "                neighbors.append(neighbor)\n",
    "        else:\n",
    "            break\n",
    "    \n",
    "    # Predict the rating by averaging the ratings of the neighbors\n",
    "    if neighbors:\n",
    "        predicted_rating = np.mean([neighbor[1] for neighbor in neighbors])\n",
    "    else:\n",
    "        # Fallback: Use global mean if no neighbors are valid\n",
    "        predicted_rating = df[\"rating\"].mean()\n",
    "    \n",
    "    return predicted_rating"
   ]
  },
  {
   "cell_type": "code",
   "execution_count": null,
   "metadata": {},
   "outputs": [],
   "source": [
    "def knn_weighted_predict_for_user(movie_id, target_user_id, k, df):\n",
    "\n",
    "    # Filter for the specific movie\n",
    "    movie_data = df[df[\"movieId\"] == movie_id]\n",
    "    \n",
    "    # Extract unique users and their ratings\n",
    "    users = movie_data[[\"rating_user_id\", \"rating\"]].drop_duplicates().reset_index(drop=True)\n",
    "    \n",
    "    # Calculate distances from the target user to all other users\n",
    "    distances = []\n",
    "    for _, row in users.iterrows():\n",
    "        if row[\"rating_user_id\"] != target_user_id:  # Exclude the target user\n",
    "            dist = euclidean([target_user_id], [row[\"rating_user_id\"]])\n",
    "            distances.append((row[\"rating_user_id\"], row[\"rating\"], dist))\n",
    "    \n",
    "    # Sort by distance\n",
    "    distances = sorted(distances, key=lambda x: x[2])\n",
    "    \n",
    "    # Handle ties at the kth neighbor\n",
    "    neighbors = []\n",
    "    for i, neighbor in enumerate(distances):\n",
    "        if i < k or (i >= k and neighbor[2] == distances[k - 1][2]):\n",
    "            if not pd.isna(neighbor[1]):  # Only include valid ratings\n",
    "                neighbors.append(neighbor)\n",
    "        else:\n",
    "            break\n",
    "    \n",
    "    # Predict the rating using weighted average\n",
    "    if neighbors:\n",
    "        # Calculate weights as 1 / distance (add a small epsilon to avoid division by zero)\n",
    "        epsilon = 1e-9\n",
    "        weighted_sum = sum((1 / (neighbor[2] + epsilon)) * neighbor[1] for neighbor in neighbors)\n",
    "        total_weight = sum(1 / (neighbor[2] + epsilon) for neighbor in neighbors)\n",
    "        predicted_rating = weighted_sum / total_weight\n",
    "    else:\n",
    "        # Fallback: Use global mean if no neighbors are valid\n",
    "        predicted_rating = df[\"rating\"].mean()\n",
    "    \n",
    "    return predicted_rating"
   ]
  },
  {
   "cell_type": "code",
   "execution_count": 161,
   "metadata": {},
   "outputs": [],
   "source": [
    "# Function to predict ratings for all users for a single movie\n",
    "def predict_ratings_for_movie(movie_id, k, df,KNN_method):\n",
    "    users = df[df[\"movieId\"] == movie_id][\"rating_user_id\"].unique()\n",
    "    predictions = []\n",
    "    for user_id in users:\n",
    "        predicted_rating = KNN_method(movie_id, user_id, k, df)\n",
    "        actual_rating = df[(df[\"movieId\"] == movie_id) & (df[\"rating_user_id\"] == user_id)][\"rating\"].values[0]\n",
    "        predictions.append({\"movie_id\": movie_id, \"user_id\": user_id, \"predicted\": predicted_rating, \"actual\": actual_rating})\n",
    "    return pd.DataFrame(predictions)\n"
   ]
  },
  {
   "cell_type": "code",
   "execution_count": 33,
   "metadata": {},
   "outputs": [],
   "source": [
    "# Function to predict ratings for all movies in the dataset\n",
    "def predict_ratings_for_all_movies(k, df,KNN_method):\n",
    "    unique_movies = df[\"movieId\"].unique()\n",
    "    all_predictions = []\n",
    "    for movie_id in unique_movies:\n",
    "        movie_predictions = predict_ratings_for_movie(movie_id, k, df,KNN_method)\n",
    "        all_predictions.append(movie_predictions)\n",
    "    return pd.concat(all_predictions, ignore_index=True)\n"
   ]
  },
  {
   "cell_type": "code",
   "execution_count": 162,
   "metadata": {},
   "outputs": [],
   "source": [
    "\n",
    "# Calculate RMSE for all movies\n",
    "def calculate_overall_rmse(predictions_df):\n",
    "    # Drop rows where 'predicted' or 'actual' is NaN\n",
    "    valid_predictions = predictions_df.dropna(subset=[\"predicted\", \"actual\"])\n",
    "    \n",
    "    # If no valid rows remain, return NaN\n",
    "    if valid_predictions.empty:\n",
    "        print(\"No valid rows for RMSE calculation. Returning NaN.\")\n",
    "        return np.nan\n",
    "    \n",
    "    # Extract valid actual and predicted values\n",
    "    actual = valid_predictions[\"actual\"]\n",
    "    predicted = valid_predictions[\"predicted\"]\n",
    "    \n",
    "    # Calculate and return RMSE\n",
    "    rmse = np.sqrt(mean_squared_error(actual, predicted))\n",
    "    return rmse"
   ]
  },
  {
   "cell_type": "code",
   "execution_count": null,
   "metadata": {},
   "outputs": [
    {
     "name": "stdout",
     "output_type": "stream",
     "text": [
      "\n",
      "Overall Root Mean Squared Error (RMSE): 1.0740761486412393\n",
      "\n",
      "Overall Root Mean Squared Error (RMSE): 1.0268727889725122\n",
      "\n",
      "Overall Root Mean Squared Error (RMSE): 0.9946036968752594\n"
     ]
    }
   ],
   "source": [
    "\n",
    "vals = [3,5,10]\n",
    "rmse_knn_unweighht=[]\n",
    "for k in vals:\n",
    "\n",
    "    # Predict ratings for all users across all movies\n",
    "    all_predictions_df_weighted = predict_ratings_for_all_movies(k, final_df,knn_predict_for_user_unweighted)\n",
    "    overall_rmse = calculate_overall_rmse(all_predictions_df_weighted)\n",
    "    rmse_knn_unweighht.append(overall_rmse)\n",
    "    csv_name = 'KNN_UNWEIGHTED'+f'{k}'+'.CSV'\n",
    "    all_predictions_df_weighted.to_csv(csv_name,index=False)\n",
    "    print(\"\\nOverall Root Mean Squared Error (RMSE):\", overall_rmse)    "
   ]
  },
  {
   "cell_type": "code",
   "execution_count": 164,
   "metadata": {},
   "outputs": [
    {
     "name": "stdout",
     "output_type": "stream",
     "text": [
      "\n",
      "Overall Root Mean Squared Error (RMSE): 1.1175451436470567\n",
      "\n",
      "Overall Root Mean Squared Error (RMSE): 1.0801135537844357\n",
      "\n",
      "Overall Root Mean Squared Error (RMSE): 1.0514892565469909\n"
     ]
    }
   ],
   "source": [
    "vals = [3,5,10]\n",
    "rmse_knn_weighht=[]\n",
    "for k in vals:\n",
    "\n",
    "    # Predict ratings for all users across all movies\n",
    "    all_predictions_df_weighted = predict_ratings_for_all_movies(k, final_df,knn_weighted_predict_for_user)\n",
    "    overall_rmse = calculate_overall_rmse(all_predictions_df_weighted)\n",
    "    rmse_knn_unweighht.append(overall_rmse)\n",
    "    csv_name = 'KNN_WEIGHTED_'+f'{k}'+'.CSV'\n",
    "    all_predictions_df_weighted.to_csv(csv_name,index=False)\n",
    "    print(\"\\nOverall Root Mean Squared Error (RMSE):\", overall_rmse) "
   ]
  },
  {
   "cell_type": "markdown",
   "metadata": {},
   "source": [
    "## Collaborative Filtering"
   ]
  },
  {
   "cell_type": "markdown",
   "metadata": {},
   "source": [
    "### Sarwar Method"
   ]
  },
  {
   "cell_type": "code",
   "execution_count": null,
   "metadata": {},
   "outputs": [
    {
     "name": "stderr",
     "output_type": "stream",
     "text": [
      "c:\\Users\\sridh\\OneDrive\\Desktop\\CS 504\\Project\\ml-latest-small\\cs_virtual\\Lib\\site-packages\\numpy\\lib\\_function_base_impl.py:2999: RuntimeWarning: invalid value encountered in divide\n",
      "  c /= stddev[:, None]\n",
      "c:\\Users\\sridh\\OneDrive\\Desktop\\CS 504\\Project\\ml-latest-small\\cs_virtual\\Lib\\site-packages\\numpy\\lib\\_function_base_impl.py:3000: RuntimeWarning: invalid value encountered in divide\n",
      "  c /= stddev[None, :]\n"
     ]
    }
   ],
   "source": [
    "# Step 1: Handle duplicate entries\n",
    "final_df = final_df.groupby(['rating_user_id', 'movieId'], as_index=False).agg({'rating': 'mean'})\n",
    "\n",
    "# Step 2: Train-test split (60-40)\n",
    "train, test = train_test_split(final_df, test_size=0.2, random_state=42)\n",
    "\n",
    "# Step 3: Create utility matrix for training data\n",
    "train_utility_matrix = train.pivot(index='rating_user_id', columns='movieId', values='rating')\n",
    "\n",
    "# Step 4: Zero-center the utility matrix\n",
    "movie_means = train_utility_matrix.mean(axis=0)\n",
    "zero_centered_matrix = train_utility_matrix.subtract(movie_means, axis=1)\n",
    "\n",
    "# Fill NaN values with 0 for similarity computation\n",
    "zero_centered_matrix = zero_centered_matrix.fillna(0)\n",
    "\n",
    "# Step 5: Compute similarity matrix using Pearson correlation\n",
    "similarity_matrix = np.corrcoef(zero_centered_matrix.T)\n",
    "\n",
    "# Get movie indices for lookup\n",
    "movie_index_mapping = {movie: idx for idx, movie in enumerate(zero_centered_matrix.columns)}\n",
    "index_movie_mapping = {idx: movie for movie, idx in movie_index_mapping.items()}\n"
   ]
  },
  {
   "cell_type": "code",
   "execution_count": 207,
   "metadata": {},
   "outputs": [],
   "source": [
    "def predict_rating(user_id, movie_id):\n",
    "    # Check if movie and user exist in the training data\n",
    "    if user_id not in zero_centered_matrix.index or movie_id not in movie_index_mapping:\n",
    "        return np.nan  # Return NaN if user or movie not found\n",
    "    \n",
    "    # Get the movie index\n",
    "    movie_idx = movie_index_mapping[movie_id]\n",
    "    \n",
    "    # Get the similarity scores for the target movie\n",
    "    movie_similarities = similarity_matrix[movie_idx]\n",
    "    \n",
    "    # Get the ratings given by the user\n",
    "    user_ratings = zero_centered_matrix.loc[user_id]\n",
    "    \n",
    "    # Find the indices of movies rated by the user\n",
    "    rated_indices = user_ratings[user_ratings != 0].index.map(movie_index_mapping)\n",
    "    \n",
    "    # Calculate weighted average of ratings\n",
    "    numerator = 0\n",
    "    denominator = 0\n",
    "    for idx in rated_indices:\n",
    "        if not np.isnan(movie_similarities[idx]):  # Skip NaN similarities\n",
    "            numerator += movie_similarities[idx] * user_ratings.iloc[movie_index_mapping[index_movie_mapping[idx]]]\n",
    "            denominator += abs(movie_similarities[idx])\n",
    "    \n",
    "    # If no valid neighbors, return global mean\n",
    "    if denominator == 0:\n",
    "        return movie_means[movie_id]\n",
    "    \n",
    "    # Return the predicted rating\n",
    "    return numerator / denominator + movie_means[movie_id]"
   ]
  },
  {
   "cell_type": "code",
   "execution_count": 208,
   "metadata": {},
   "outputs": [],
   "source": [
    "# Predict ratings for all rows in the test set\n",
    "test['predicted'] = test.apply(lambda row: predict_rating(row['rating_user_id'], row['movieId']), axis=1)\n"
   ]
  },
  {
   "cell_type": "code",
   "execution_count": 209,
   "metadata": {},
   "outputs": [],
   "source": [
    "test.to_csv('colaborative_filter_sarwar_80-20.csv')"
   ]
  },
  {
   "cell_type": "code",
   "execution_count": 210,
   "metadata": {},
   "outputs": [],
   "source": [
    "test_df = test.fillna(0)"
   ]
  },
  {
   "cell_type": "code",
   "execution_count": null,
   "metadata": {},
   "outputs": [],
   "source": [
    "# RMSE: 1.1918304587912651\n",
    "# RMSE: 1.1537869461877532\n",
    "# RMSE: 1.1306925246791182"
   ]
  },
  {
   "cell_type": "code",
   "execution_count": 211,
   "metadata": {},
   "outputs": [
    {
     "name": "stdout",
     "output_type": "stream",
     "text": [
      "RMSE: 1.1306925246791182\n"
     ]
    }
   ],
   "source": [
    "rmse = np.sqrt(mean_squared_error(test_df['rating'], test_df['predicted']))\n",
    "print(\"RMSE:\", rmse)"
   ]
  }
 ],
 "metadata": {
  "kernelspec": {
   "display_name": "cs_virtual",
   "language": "python",
   "name": "python3"
  },
  "language_info": {
   "codemirror_mode": {
    "name": "ipython",
    "version": 3
   },
   "file_extension": ".py",
   "mimetype": "text/x-python",
   "name": "python",
   "nbconvert_exporter": "python",
   "pygments_lexer": "ipython3",
   "version": "3.12.8"
  }
 },
 "nbformat": 4,
 "nbformat_minor": 2
}
