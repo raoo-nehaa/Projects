{
 "cells": [
  {
   "cell_type": "markdown",
   "id": "4462d1fb-b028-44cc-8e80-2e38c662c5fe",
   "metadata": {},
   "source": [
    "## HAP720-001: Data Integration Project - Phase 3\n",
    "Name: Neha Rao<br>\n",
    "Gnumber: G01477370"
   ]
  },
  {
   "cell_type": "code",
   "execution_count": 12,
   "id": "876a4abf-f48f-483a-a9f9-02fb4d927961",
   "metadata": {},
   "outputs": [
    {
     "name": "stdout",
     "output_type": "stream",
     "text": [
      "\n",
      "Number of matched records: 1110886\n",
      "Number of mismatched records: 3079264\n"
     ]
    }
   ],
   "source": [
    "import pandas as pd\n",
    "\n",
    "# Load the datasets \n",
    "claims_data = pd.read_csv(claims_path, dtype=str)\n",
    "seer_data = pd.read_csv(seer_path, dtype=str)\n",
    "\n",
    "# Standardize column names\n",
    "claims_data.columns = claims_data.columns.str.lower().str.strip()\n",
    "seer_data.columns = seer_data.columns.str.lower().str.strip()\n",
    "\n",
    "# Renamed columns for consistency\n",
    "claims_data.rename(columns={\"sex\": \"gender\", \"age\": \"age\", \"diagnosis9\": \"icd_code\"}, inplace=True)\n",
    "seer_data.rename(columns={\"sex\": \"gender\", \"diagnosis_age\": \"age\", \"c_diagnosis\": \"icd_code\"}, inplace=True)\n",
    "\n",
    "# Fill missing values\n",
    "claims_data.fillna(\"\", inplace=True)\n",
    "seer_data.fillna(\"\", inplace=True)\n",
    "\n",
    "# Perform matching\n",
    "def match_patients_vectorized(claims_df, seer_df):\n",
    "    merged = pd.merge(\n",
    "        claims_df, \n",
    "        seer_df, \n",
    "        how=\"left\", \n",
    "        left_on=[\"age\", \"gender\", \"icd_code\"], \n",
    "        right_on=[\"age\", \"gender\", \"icd_code\"],\n",
    "        indicator=True\n",
    "    )\n",
    "    matched = merged[merged[\"_merge\"] == \"both\"]\n",
    "    mismatched = merged[merged[\"_merge\"] == \"left_only\"]\n",
    "    return matched, mismatched\n",
    "\n",
    "# Apply the vectorized matching\n",
    "matched_records, mismatched_records = match_patients_vectorized(claims_data, seer_data)\n",
    "\n",
    "# Save results\n",
    "matched_records.to_csv(\"C:/Users/nehad/Desktop/Courses/SecondSem/HAP-720/Data Integration Project/Phase3/matched_records.csv\", index=False)\n",
    "mismatched_records.to_csv(\"C:/Users/nehad/Desktop/Courses/SecondSem/HAP-720/Data Integration Project/Phase3/mismatched_records.csv\", index=False)\n",
    "\n",
    "# Print summary\n",
    "print(f\"\\nNumber of matched records: {len(matched_records)}\")\n",
    "print(f\"Number of mismatched records: {len(mismatched_records)}\")\n"
   ]
  }
 ],
 "metadata": {
  "kernelspec": {
   "display_name": "Python 3 (ipykernel)",
   "language": "python",
   "name": "python3"
  },
  "language_info": {
   "codemirror_mode": {
    "name": "ipython",
    "version": 3
   },
   "file_extension": ".py",
   "mimetype": "text/x-python",
   "name": "python",
   "nbconvert_exporter": "python",
   "pygments_lexer": "ipython3",
   "version": "3.12.4"
  }
 },
 "nbformat": 4,
 "nbformat_minor": 5
}
